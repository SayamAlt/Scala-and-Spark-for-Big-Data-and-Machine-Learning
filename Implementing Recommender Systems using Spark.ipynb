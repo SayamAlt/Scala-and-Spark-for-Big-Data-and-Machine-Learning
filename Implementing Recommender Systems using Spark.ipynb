{
 "cells": [
  {
   "cell_type": "code",
   "execution_count": 0,
   "metadata": {
    "application/vnd.databricks.v1+cell": {
     "cellMetadata": {
      "byteLimit": 2048000,
      "rowLimit": 10000
     },
     "inputWidgets": {},
     "nuid": "b7faa786-310d-4afe-a727-088a84388c87",
     "showTitle": false,
     "title": ""
    }
   },
   "outputs": [
    {
     "output_type": "display_data",
     "data": {
      "text/html": [
       "<style scoped>\n",
       "  .ansiout {\n",
       "    display: block;\n",
       "    unicode-bidi: embed;\n",
       "    white-space: pre-wrap;\n",
       "    word-wrap: break-word;\n",
       "    word-break: break-all;\n",
       "    font-family: \"Menlo\", \"Monaco\", \"Consolas\", \"Ubuntu Mono\", \"Source Code Pro\", monospace;\n",
       "    font-size: 13px;\n",
       "    color: #555;\n",
       "    margin-left: 4px;\n",
       "    line-height: 19px;\n",
       "  }\n",
       "</style>\n",
       "<div class=\"ansiout\">import org.apache.spark.ml.recommendation.ALS\n",
       "import org.apache.spark.sql.functions._\n",
       "import org.apache.spark.ml.tuning.{ParamGridBuilder, TrainValidationSplit}\n",
       "import org.apache.spark.ml.evaluation.RegressionEvaluator\n",
       "</div>"
      ]
     },
     "metadata": {
      "application/vnd.databricks.v1+output": {
       "addedWidgets": {},
       "arguments": {},
       "data": "<div class=\"ansiout\">import org.apache.spark.ml.recommendation.ALS\nimport org.apache.spark.sql.functions._\nimport org.apache.spark.ml.tuning.{ParamGridBuilder, TrainValidationSplit}\nimport org.apache.spark.ml.evaluation.RegressionEvaluator\n</div>",
       "datasetInfos": [],
       "metadata": {
        "isDbfsCommandResult": false
       },
       "removedWidgets": [],
       "type": "html"
      }
     },
     "output_type": "display_data"
    }
   ],
   "source": [
    "%scala\n",
    "import org.apache.spark.ml.recommendation.ALS\n",
    "import org.apache.spark.sql.functions._\n",
    "import org.apache.spark.ml.tuning.{ParamGridBuilder,TrainValidationSplit}\n",
    "import org.apache.spark.ml.evaluation.RegressionEvaluator"
   ]
  },
  {
   "cell_type": "code",
   "execution_count": 0,
   "metadata": {
    "application/vnd.databricks.v1+cell": {
     "cellMetadata": {
      "byteLimit": 2048000,
      "rowLimit": 10000
     },
     "inputWidgets": {},
     "nuid": "1d24dcd2-cb17-484f-8034-930a68c52f91",
     "showTitle": false,
     "title": ""
    }
   },
   "outputs": [
    {
     "output_type": "stream",
     "name": "stdout",
     "output_type": "stream",
     "text": [
      "Out[1]: [FileInfo(path='dbfs:/FileStore/tables/29103444_bank.csv', name='29103444_bank.csv', size=5834917, modificationTime=1717028119000),\n FileInfo(path='dbfs:/FileStore/tables/Customer_Gender.csv', name='Customer_Gender.csv', size=7628, modificationTime=1717027822000),\n FileInfo(path='dbfs:/FileStore/tables/movie_ratings-1.csv', name='movie_ratings-1.csv', size=1373062, modificationTime=1723149511000),\n FileInfo(path='dbfs:/FileStore/tables/movie_ratings-2.csv', name='movie_ratings-2.csv', size=1373062, modificationTime=1723149764000),\n FileInfo(path='dbfs:/FileStore/tables/movie_ratings.csv', name='movie_ratings.csv', size=1373062, modificationTime=1723149478000)]"
     ]
    }
   ],
   "source": [
    "dbutils.fs.ls(\"FileStore/tables/\")"
   ]
  },
  {
   "cell_type": "code",
   "execution_count": 0,
   "metadata": {
    "application/vnd.databricks.v1+cell": {
     "cellMetadata": {
      "byteLimit": 2048000,
      "rowLimit": 10000
     },
     "inputWidgets": {},
     "nuid": "0faa4ff0-e638-4f1a-9bcc-49b610369705",
     "showTitle": false,
     "title": ""
    }
   },
   "outputs": [
    {
     "output_type": "display_data",
     "data": {
      "text/html": [
       "<style scoped>\n",
       "  .ansiout {\n",
       "    display: block;\n",
       "    unicode-bidi: embed;\n",
       "    white-space: pre-wrap;\n",
       "    word-wrap: break-word;\n",
       "    word-break: break-all;\n",
       "    font-family: \"Menlo\", \"Monaco\", \"Consolas\", \"Ubuntu Mono\", \"Source Code Pro\", monospace;\n",
       "    font-size: 13px;\n",
       "    color: #555;\n",
       "    margin-left: 4px;\n",
       "    line-height: 19px;\n",
       "  }\n",
       "</style>\n",
       "<div class=\"ansiout\">root\n",
       "-- userId: integer (nullable = true)\n",
       "-- movieId: integer (nullable = true)\n",
       "-- rating: double (nullable = true)\n",
       "\n",
       "df: org.apache.spark.sql.DataFrame = [userId: int, movieId: int ... 1 more field]\n",
       "</div>"
      ]
     },
     "metadata": {
      "application/vnd.databricks.v1+output": {
       "addedWidgets": {},
       "arguments": {},
       "data": "<div class=\"ansiout\">root\n |-- userId: integer (nullable = true)\n |-- movieId: integer (nullable = true)\n |-- rating: double (nullable = true)\n\ndf: org.apache.spark.sql.DataFrame = [userId: int, movieId: int ... 1 more field]\n</div>",
       "datasetInfos": [
        {
         "name": "df",
         "schema": {
          "fields": [
           {
            "metadata": {},
            "name": "userId",
            "nullable": true,
            "type": "integer"
           },
           {
            "metadata": {},
            "name": "movieId",
            "nullable": true,
            "type": "integer"
           },
           {
            "metadata": {},
            "name": "rating",
            "nullable": true,
            "type": "double"
           }
          ],
          "type": "struct"
         },
         "tableIdentifier": null,
         "typeStr": "org.apache.spark.sql.DataFrame"
        }
       ],
       "metadata": {
        "isDbfsCommandResult": false
       },
       "removedWidgets": [],
       "type": "html"
      }
     },
     "output_type": "display_data"
    }
   ],
   "source": [
    "%scala\n",
    "val df = spark.read.option(\"header\",\"true\").option(\"inferSchema\",\"true\").format(\"csv\").load(\"dbfs:/FileStore/tables/movie_ratings.csv\")\n",
    "df.printSchema()"
   ]
  },
  {
   "cell_type": "code",
   "execution_count": 0,
   "metadata": {
    "application/vnd.databricks.v1+cell": {
     "cellMetadata": {
      "byteLimit": 2048000,
      "rowLimit": 10000
     },
     "inputWidgets": {},
     "nuid": "cebe9cd6-7437-4915-8190-0fc52b3b308f",
     "showTitle": false,
     "title": ""
    }
   },
   "outputs": [
    {
     "output_type": "display_data",
     "data": {
      "text/html": [
       "<style scoped>\n",
       "  .ansiout {\n",
       "    display: block;\n",
       "    unicode-bidi: embed;\n",
       "    white-space: pre-wrap;\n",
       "    word-wrap: break-word;\n",
       "    word-break: break-all;\n",
       "    font-family: \"Menlo\", \"Monaco\", \"Consolas\", \"Ubuntu Mono\", \"Source Code Pro\", monospace;\n",
       "    font-size: 13px;\n",
       "    color: #555;\n",
       "    margin-left: 4px;\n",
       "    line-height: 19px;\n",
       "  }\n",
       "</style>\n",
       "<div class=\"ansiout\">res2: Long = 100004\n",
       "</div>"
      ]
     },
     "metadata": {
      "application/vnd.databricks.v1+output": {
       "addedWidgets": {},
       "arguments": {},
       "data": "<div class=\"ansiout\">res2: Long = 100004\n</div>",
       "datasetInfos": [],
       "metadata": {
        "isDbfsCommandResult": false
       },
       "removedWidgets": [],
       "type": "html"
      }
     },
     "output_type": "display_data"
    }
   ],
   "source": [
    "%scala\n",
    "df.count()"
   ]
  },
  {
   "cell_type": "code",
   "execution_count": 0,
   "metadata": {
    "application/vnd.databricks.v1+cell": {
     "cellMetadata": {
      "byteLimit": 2048000,
      "rowLimit": 10000
     },
     "inputWidgets": {},
     "nuid": "473cddc2-392f-4ab7-adbe-4bd87b67bd26",
     "showTitle": false,
     "title": ""
    }
   },
   "outputs": [
    {
     "output_type": "display_data",
     "data": {
      "text/html": [
       "<style scoped>\n",
       "  .ansiout {\n",
       "    display: block;\n",
       "    unicode-bidi: embed;\n",
       "    white-space: pre-wrap;\n",
       "    word-wrap: break-word;\n",
       "    word-break: break-all;\n",
       "    font-family: \"Menlo\", \"Monaco\", \"Consolas\", \"Ubuntu Mono\", \"Source Code Pro\", monospace;\n",
       "    font-size: 13px;\n",
       "    color: #555;\n",
       "    margin-left: 4px;\n",
       "    line-height: 19px;\n",
       "  }\n",
       "</style>\n",
       "<div class=\"ansiout\">res3: Array[org.apache.spark.sql.Row] = Array([1,31,2.5], [1,1029,3.0], [1,1061,3.0], [1,1129,2.0], [1,1172,4.0], [1,1263,2.0], [1,1287,2.0], [1,1293,2.0], [1,1339,3.5], [1,1343,2.0])\n",
       "</div>"
      ]
     },
     "metadata": {
      "application/vnd.databricks.v1+output": {
       "addedWidgets": {},
       "arguments": {},
       "data": "<div class=\"ansiout\">res3: Array[org.apache.spark.sql.Row] = Array([1,31,2.5], [1,1029,3.0], [1,1061,3.0], [1,1129,2.0], [1,1172,4.0], [1,1263,2.0], [1,1287,2.0], [1,1293,2.0], [1,1339,3.5], [1,1343,2.0])\n</div>",
       "datasetInfos": [],
       "metadata": {
        "isDbfsCommandResult": false
       },
       "removedWidgets": [],
       "type": "html"
      }
     },
     "output_type": "display_data"
    }
   ],
   "source": [
    "%scala\n",
    "df.head(10)"
   ]
  },
  {
   "cell_type": "code",
   "execution_count": 0,
   "metadata": {
    "application/vnd.databricks.v1+cell": {
     "cellMetadata": {
      "byteLimit": 2048000,
      "rowLimit": 10000
     },
     "inputWidgets": {},
     "nuid": "898d93cc-898c-45c1-8a4f-5a96a2afa5a7",
     "showTitle": false,
     "title": ""
    }
   },
   "outputs": [
    {
     "output_type": "display_data",
     "data": {
      "text/html": [
       "<style scoped>\n",
       "  .ansiout {\n",
       "    display: block;\n",
       "    unicode-bidi: embed;\n",
       "    white-space: pre-wrap;\n",
       "    word-wrap: break-word;\n",
       "    word-break: break-all;\n",
       "    font-family: \"Menlo\", \"Monaco\", \"Consolas\", \"Ubuntu Mono\", \"Source Code Pro\", monospace;\n",
       "    font-size: 13px;\n",
       "    color: #555;\n",
       "    margin-left: 4px;\n",
       "    line-height: 19px;\n",
       "  }\n",
       "</style>\n",
       "<div class=\"ansiout\">train: org.apache.spark.sql.Dataset[org.apache.spark.sql.Row] = [userId: int, movieId: int ... 1 more field]\n",
       "test: org.apache.spark.sql.Dataset[org.apache.spark.sql.Row] = [userId: int, movieId: int ... 1 more field]\n",
       "</div>"
      ]
     },
     "metadata": {
      "application/vnd.databricks.v1+output": {
       "addedWidgets": {},
       "arguments": {},
       "data": "<div class=\"ansiout\">train: org.apache.spark.sql.Dataset[org.apache.spark.sql.Row] = [userId: int, movieId: int ... 1 more field]\ntest: org.apache.spark.sql.Dataset[org.apache.spark.sql.Row] = [userId: int, movieId: int ... 1 more field]\n</div>",
       "datasetInfos": [
        {
         "name": "train",
         "schema": {
          "fields": [
           {
            "metadata": {},
            "name": "userId",
            "nullable": true,
            "type": "integer"
           },
           {
            "metadata": {},
            "name": "movieId",
            "nullable": true,
            "type": "integer"
           },
           {
            "metadata": {},
            "name": "rating",
            "nullable": true,
            "type": "double"
           }
          ],
          "type": "struct"
         },
         "tableIdentifier": null,
         "typeStr": "org.apache.spark.sql.Dataset[org.apache.spark.sql.Row]"
        },
        {
         "name": "test",
         "schema": {
          "fields": [
           {
            "metadata": {},
            "name": "userId",
            "nullable": true,
            "type": "integer"
           },
           {
            "metadata": {},
            "name": "movieId",
            "nullable": true,
            "type": "integer"
           },
           {
            "metadata": {},
            "name": "rating",
            "nullable": true,
            "type": "double"
           }
          ],
          "type": "struct"
         },
         "tableIdentifier": null,
         "typeStr": "org.apache.spark.sql.Dataset[org.apache.spark.sql.Row]"
        }
       ],
       "metadata": {
        "isDbfsCommandResult": false
       },
       "removedWidgets": [],
       "type": "html"
      }
     },
     "output_type": "display_data"
    }
   ],
   "source": [
    "%scala\n",
    "val Array(train,test) = df.randomSplit(Array(0.75,0.25),seed=81)"
   ]
  },
  {
   "cell_type": "code",
   "execution_count": 0,
   "metadata": {
    "application/vnd.databricks.v1+cell": {
     "cellMetadata": {
      "byteLimit": 2048000,
      "rowLimit": 10000
     },
     "inputWidgets": {},
     "nuid": "cf0831ff-1745-4043-a215-dcab95be2cb6",
     "showTitle": false,
     "title": ""
    }
   },
   "outputs": [
    {
     "output_type": "display_data",
     "data": {
      "text/html": [
       "<style scoped>\n",
       "  .ansiout {\n",
       "    display: block;\n",
       "    unicode-bidi: embed;\n",
       "    white-space: pre-wrap;\n",
       "    word-wrap: break-word;\n",
       "    word-break: break-all;\n",
       "    font-family: \"Menlo\", \"Monaco\", \"Consolas\", \"Ubuntu Mono\", \"Source Code Pro\", monospace;\n",
       "    font-size: 13px;\n",
       "    color: #555;\n",
       "    margin-left: 4px;\n",
       "    line-height: 19px;\n",
       "  }\n",
       "</style>\n",
       "<div class=\"ansiout\">res5: Long = 74958\n",
       "</div>"
      ]
     },
     "metadata": {
      "application/vnd.databricks.v1+output": {
       "addedWidgets": {},
       "arguments": {},
       "data": "<div class=\"ansiout\">res5: Long = 74958\n</div>",
       "datasetInfos": [],
       "metadata": {
        "isDbfsCommandResult": false
       },
       "removedWidgets": [],
       "type": "html"
      }
     },
     "output_type": "display_data"
    }
   ],
   "source": [
    "%scala\n",
    "train.count()"
   ]
  },
  {
   "cell_type": "code",
   "execution_count": 0,
   "metadata": {
    "application/vnd.databricks.v1+cell": {
     "cellMetadata": {
      "byteLimit": 2048000,
      "rowLimit": 10000
     },
     "inputWidgets": {},
     "nuid": "76815d87-79e2-4aa5-b35e-4f7e27e6b5a7",
     "showTitle": false,
     "title": ""
    }
   },
   "outputs": [
    {
     "output_type": "display_data",
     "data": {
      "text/html": [
       "<style scoped>\n",
       "  .ansiout {\n",
       "    display: block;\n",
       "    unicode-bidi: embed;\n",
       "    white-space: pre-wrap;\n",
       "    word-wrap: break-word;\n",
       "    word-break: break-all;\n",
       "    font-family: \"Menlo\", \"Monaco\", \"Consolas\", \"Ubuntu Mono\", \"Source Code Pro\", monospace;\n",
       "    font-size: 13px;\n",
       "    color: #555;\n",
       "    margin-left: 4px;\n",
       "    line-height: 19px;\n",
       "  }\n",
       "</style>\n",
       "<div class=\"ansiout\">res6: Long = 25046\n",
       "</div>"
      ]
     },
     "metadata": {
      "application/vnd.databricks.v1+output": {
       "addedWidgets": {},
       "arguments": {},
       "data": "<div class=\"ansiout\">res6: Long = 25046\n</div>",
       "datasetInfos": [],
       "metadata": {
        "isDbfsCommandResult": false
       },
       "removedWidgets": [],
       "type": "html"
      }
     },
     "output_type": "display_data"
    }
   ],
   "source": [
    "%scala\n",
    "test.count()"
   ]
  },
  {
   "cell_type": "code",
   "execution_count": 0,
   "metadata": {
    "application/vnd.databricks.v1+cell": {
     "cellMetadata": {
      "byteLimit": 2048000,
      "rowLimit": 10000
     },
     "inputWidgets": {},
     "nuid": "367a0289-cebf-438e-a294-1e7e9f08fcff",
     "showTitle": false,
     "title": ""
    }
   },
   "outputs": [
    {
     "output_type": "display_data",
     "data": {
      "text/html": [
       "<style scoped>\n",
       "  .ansiout {\n",
       "    display: block;\n",
       "    unicode-bidi: embed;\n",
       "    white-space: pre-wrap;\n",
       "    word-wrap: break-word;\n",
       "    word-break: break-all;\n",
       "    font-family: \"Menlo\", \"Monaco\", \"Consolas\", \"Ubuntu Mono\", \"Source Code Pro\", monospace;\n",
       "    font-size: 13px;\n",
       "    color: #555;\n",
       "    margin-left: 4px;\n",
       "    line-height: 19px;\n",
       "  }\n",
       "</style>\n",
       "<div class=\"ansiout\">als: org.apache.spark.ml.recommendation.ALS = als_8ecae1645810\n",
       "</div>"
      ]
     },
     "metadata": {
      "application/vnd.databricks.v1+output": {
       "addedWidgets": {},
       "arguments": {},
       "data": "<div class=\"ansiout\">als: org.apache.spark.ml.recommendation.ALS = als_8ecae1645810\n</div>",
       "datasetInfos": [],
       "metadata": {
        "isDbfsCommandResult": false
       },
       "removedWidgets": [],
       "type": "html"
      }
     },
     "output_type": "display_data"
    }
   ],
   "source": [
    "%scala\n",
    "val als = new ALS().setMaxIter(10).setRegParam(0.01).setUserCol(\"userId\").setItemCol(\"movieId\").setRatingCol(\"rating\").setColdStartStrategy(\"drop\")"
   ]
  },
  {
   "cell_type": "code",
   "execution_count": 0,
   "metadata": {
    "application/vnd.databricks.v1+cell": {
     "cellMetadata": {
      "byteLimit": 2048000,
      "rowLimit": 10000
     },
     "inputWidgets": {},
     "nuid": "c4ed33f1-d262-45c3-9218-325d28175dd2",
     "showTitle": false,
     "title": ""
    }
   },
   "outputs": [
    {
     "output_type": "display_data",
     "data": {
      "text/html": [
       "<style scoped>\n",
       "  .ansiout {\n",
       "    display: block;\n",
       "    unicode-bidi: embed;\n",
       "    white-space: pre-wrap;\n",
       "    word-wrap: break-word;\n",
       "    word-break: break-all;\n",
       "    font-family: \"Menlo\", \"Monaco\", \"Consolas\", \"Ubuntu Mono\", \"Source Code Pro\", monospace;\n",
       "    font-size: 13px;\n",
       "    color: #555;\n",
       "    margin-left: 4px;\n",
       "    line-height: 19px;\n",
       "  }\n",
       "</style>\n",
       "<div class=\"ansiout\">als_model: org.apache.spark.ml.recommendation.ALSModel = ALSModel: uid=als_8ecae1645810, rank=10\n",
       "</div>"
      ]
     },
     "metadata": {
      "application/vnd.databricks.v1+output": {
       "addedWidgets": {},
       "arguments": {},
       "data": "<div class=\"ansiout\">als_model: org.apache.spark.ml.recommendation.ALSModel = ALSModel: uid=als_8ecae1645810, rank=10\n</div>",
       "datasetInfos": [],
       "metadata": {
        "isDbfsCommandResult": false
       },
       "removedWidgets": [],
       "type": "html"
      }
     },
     "output_type": "display_data"
    }
   ],
   "source": [
    "%scala\n",
    "val als_model = als.fit(train)"
   ]
  },
  {
   "cell_type": "code",
   "execution_count": 0,
   "metadata": {
    "application/vnd.databricks.v1+cell": {
     "cellMetadata": {
      "byteLimit": 2048000,
      "rowLimit": 10000
     },
     "inputWidgets": {},
     "nuid": "e80cc396-bc30-4f99-8f5e-a0501fb4f8d7",
     "showTitle": false,
     "title": ""
    }
   },
   "outputs": [
    {
     "output_type": "display_data",
     "data": {
      "text/html": [
       "<style scoped>\n",
       "  .ansiout {\n",
       "    display: block;\n",
       "    unicode-bidi: embed;\n",
       "    white-space: pre-wrap;\n",
       "    word-wrap: break-word;\n",
       "    word-break: break-all;\n",
       "    font-family: \"Menlo\", \"Monaco\", \"Consolas\", \"Ubuntu Mono\", \"Source Code Pro\", monospace;\n",
       "    font-size: 13px;\n",
       "    color: #555;\n",
       "    margin-left: 4px;\n",
       "    line-height: 19px;\n",
       "  }\n",
       "</style>\n",
       "<div class=\"ansiout\">predictions: org.apache.spark.sql.DataFrame = [userId: int, movieId: int ... 2 more fields]\n",
       "</div>"
      ]
     },
     "metadata": {
      "application/vnd.databricks.v1+output": {
       "addedWidgets": {},
       "arguments": {},
       "data": "<div class=\"ansiout\">predictions: org.apache.spark.sql.DataFrame = [userId: int, movieId: int ... 2 more fields]\n</div>",
       "datasetInfos": [
        {
         "name": "predictions",
         "schema": {
          "fields": [
           {
            "metadata": {},
            "name": "userId",
            "nullable": false,
            "type": "integer"
           },
           {
            "metadata": {},
            "name": "movieId",
            "nullable": false,
            "type": "integer"
           },
           {
            "metadata": {},
            "name": "rating",
            "nullable": true,
            "type": "double"
           },
           {
            "metadata": {},
            "name": "prediction",
            "nullable": false,
            "type": "float"
           }
          ],
          "type": "struct"
         },
         "tableIdentifier": null,
         "typeStr": "org.apache.spark.sql.DataFrame"
        }
       ],
       "metadata": {
        "isDbfsCommandResult": false
       },
       "removedWidgets": [],
       "type": "html"
      }
     },
     "output_type": "display_data"
    }
   ],
   "source": [
    "%scala\n",
    "val predictions = als_model.transform(test)"
   ]
  },
  {
   "cell_type": "code",
   "execution_count": 0,
   "metadata": {
    "application/vnd.databricks.v1+cell": {
     "cellMetadata": {
      "byteLimit": 2048000,
      "rowLimit": 10000
     },
     "inputWidgets": {},
     "nuid": "7aa62c78-8c3c-4867-a3b4-0cb30c33ea67",
     "showTitle": false,
     "title": ""
    }
   },
   "outputs": [
    {
     "output_type": "display_data",
     "data": {
      "text/html": [
       "<style scoped>\n",
       "  .ansiout {\n",
       "    display: block;\n",
       "    unicode-bidi: embed;\n",
       "    white-space: pre-wrap;\n",
       "    word-wrap: break-word;\n",
       "    word-break: break-all;\n",
       "    font-family: \"Menlo\", \"Monaco\", \"Consolas\", \"Ubuntu Mono\", \"Source Code Pro\", monospace;\n",
       "    font-size: 13px;\n",
       "    color: #555;\n",
       "    margin-left: 4px;\n",
       "    line-height: 19px;\n",
       "  }\n",
       "</style>\n",
       "<div class=\"ansiout\">+------+-------+------+----------+\n",
       "userId|movieId|rating|prediction|\n",
       "+------+-------+------+----------+\n",
       "   148|     58|   4.0| 4.0812144|\n",
       "   148|    364|   4.0|  4.270048|\n",
       "   148|    492|   3.5| 5.2082863|\n",
       "   148|    904|   5.0| 4.4164224|\n",
       "   148|    913|   4.0| 4.2206674|\n",
       "   148|    919|   4.5| 4.8338966|\n",
       "   148|   1097|   5.0| 4.1097293|\n",
       "   148|   1252|   5.0|  4.207368|\n",
       "   148|   1269|   5.0|  3.469981|\n",
       "   148|   1304|   4.0| 4.5474505|\n",
       "   148|   1610|   5.0| 3.9185278|\n",
       "   148|   1690|   3.0| 2.9940963|\n",
       "   148|   1909|   3.5|  2.871802|\n",
       "   148|   2053|   2.5| 1.9882214|\n",
       "   148|   2080|   4.5| 4.1181545|\n",
       "   148|   2628|   2.5| 3.2070446|\n",
       "   148|   3256|   4.0|  3.952194|\n",
       "   148|   3386|   3.5|  4.374929|\n",
       "   148|   3462|   5.0|  4.214675|\n",
       "   148|   3671|   4.0| 3.6637778|\n",
       "+------+-------+------+----------+\n",
       "only showing top 20 rows\n",
       "\n",
       "</div>"
      ]
     },
     "metadata": {
      "application/vnd.databricks.v1+output": {
       "addedWidgets": {},
       "arguments": {},
       "data": "<div class=\"ansiout\">+------+-------+------+----------+\n|userId|movieId|rating|prediction|\n+------+-------+------+----------+\n|   148|     58|   4.0| 4.0812144|\n|   148|    364|   4.0|  4.270048|\n|   148|    492|   3.5| 5.2082863|\n|   148|    904|   5.0| 4.4164224|\n|   148|    913|   4.0| 4.2206674|\n|   148|    919|   4.5| 4.8338966|\n|   148|   1097|   5.0| 4.1097293|\n|   148|   1252|   5.0|  4.207368|\n|   148|   1269|   5.0|  3.469981|\n|   148|   1304|   4.0| 4.5474505|\n|   148|   1610|   5.0| 3.9185278|\n|   148|   1690|   3.0| 2.9940963|\n|   148|   1909|   3.5|  2.871802|\n|   148|   2053|   2.5| 1.9882214|\n|   148|   2080|   4.5| 4.1181545|\n|   148|   2628|   2.5| 3.2070446|\n|   148|   3256|   4.0|  3.952194|\n|   148|   3386|   3.5|  4.374929|\n|   148|   3462|   5.0|  4.214675|\n|   148|   3671|   4.0| 3.6637778|\n+------+-------+------+----------+\nonly showing top 20 rows\n\n</div>",
       "datasetInfos": [],
       "metadata": {
        "isDbfsCommandResult": false
       },
       "removedWidgets": [],
       "type": "html"
      }
     },
     "output_type": "display_data"
    }
   ],
   "source": [
    "%scala\n",
    "predictions.show()"
   ]
  },
  {
   "cell_type": "code",
   "execution_count": 0,
   "metadata": {
    "application/vnd.databricks.v1+cell": {
     "cellMetadata": {
      "byteLimit": 2048000,
      "rowLimit": 10000
     },
     "inputWidgets": {},
     "nuid": "87be5f46-6be5-4119-86d2-caa0e68773b7",
     "showTitle": false,
     "title": ""
    }
   },
   "outputs": [
    {
     "output_type": "display_data",
     "data": {
      "text/html": [
       "<style scoped>\n",
       "  .ansiout {\n",
       "    display: block;\n",
       "    unicode-bidi: embed;\n",
       "    white-space: pre-wrap;\n",
       "    word-wrap: break-word;\n",
       "    word-break: break-all;\n",
       "    font-family: \"Menlo\", \"Monaco\", \"Consolas\", \"Ubuntu Mono\", \"Source Code Pro\", monospace;\n",
       "    font-size: 13px;\n",
       "    color: #555;\n",
       "    margin-left: 4px;\n",
       "    line-height: 19px;\n",
       "  }\n",
       "</style>\n",
       "<div class=\"ansiout\">+--------------------------+\n",
       "abs((rating - prediction))|\n",
       "+--------------------------+\n",
       "       0.08121442794799805|\n",
       "        0.2700481414794922|\n",
       "        1.7082862854003906|\n",
       "        0.5835776329040527|\n",
       "       0.22066736221313477|\n",
       "        0.3338966369628906|\n",
       "        0.8902707099914551|\n",
       "        0.7926321029663086|\n",
       "        1.5300190448760986|\n",
       "        0.5474505424499512|\n",
       "        1.0814721584320068|\n",
       "      0.005903720855712891|\n",
       "        0.6281979084014893|\n",
       "        0.5117785930633545|\n",
       "       0.38184547424316406|\n",
       "        0.7070446014404297|\n",
       "        0.0478060245513916|\n",
       "        0.8749289512634277|\n",
       "        0.7853250503540039|\n",
       "       0.33622217178344727|\n",
       "+--------------------------+\n",
       "only showing top 20 rows\n",
       "\n",
       "errors: org.apache.spark.sql.DataFrame = [abs((rating - prediction)): double]\n",
       "</div>"
      ]
     },
     "metadata": {
      "application/vnd.databricks.v1+output": {
       "addedWidgets": {},
       "arguments": {},
       "data": "<div class=\"ansiout\">+--------------------------+\n|abs((rating - prediction))|\n+--------------------------+\n|       0.08121442794799805|\n|        0.2700481414794922|\n|        1.7082862854003906|\n|        0.5835776329040527|\n|       0.22066736221313477|\n|        0.3338966369628906|\n|        0.8902707099914551|\n|        0.7926321029663086|\n|        1.5300190448760986|\n|        0.5474505424499512|\n|        1.0814721584320068|\n|      0.005903720855712891|\n|        0.6281979084014893|\n|        0.5117785930633545|\n|       0.38184547424316406|\n|        0.7070446014404297|\n|        0.0478060245513916|\n|        0.8749289512634277|\n|        0.7853250503540039|\n|       0.33622217178344727|\n+--------------------------+\nonly showing top 20 rows\n\nerrors: org.apache.spark.sql.DataFrame = [abs((rating - prediction)): double]\n</div>",
       "datasetInfos": [
        {
         "name": "errors",
         "schema": {
          "fields": [
           {
            "metadata": {},
            "name": "abs((rating - prediction))",
            "nullable": true,
            "type": "double"
           }
          ],
          "type": "struct"
         },
         "tableIdentifier": null,
         "typeStr": "org.apache.spark.sql.DataFrame"
        }
       ],
       "metadata": {
        "isDbfsCommandResult": false
       },
       "removedWidgets": [],
       "type": "html"
      }
     },
     "output_type": "display_data"
    }
   ],
   "source": [
    "%scala\n",
    "val errors = predictions.select(abs($\"rating\"-$\"prediction\"))\n",
    "errors.show()"
   ]
  },
  {
   "cell_type": "code",
   "execution_count": 0,
   "metadata": {
    "application/vnd.databricks.v1+cell": {
     "cellMetadata": {
      "byteLimit": 2048000,
      "rowLimit": 10000
     },
     "inputWidgets": {},
     "nuid": "08b00b87-16bf-4d85-81a1-ca85c048770d",
     "showTitle": false,
     "title": ""
    }
   },
   "outputs": [
    {
     "output_type": "display_data",
     "data": {
      "text/html": [
       "<style scoped>\n",
       "  .ansiout {\n",
       "    display: block;\n",
       "    unicode-bidi: embed;\n",
       "    white-space: pre-wrap;\n",
       "    word-wrap: break-word;\n",
       "    word-break: break-all;\n",
       "    font-family: \"Menlo\", \"Monaco\", \"Consolas\", \"Ubuntu Mono\", \"Source Code Pro\", monospace;\n",
       "    font-size: 13px;\n",
       "    color: #555;\n",
       "    margin-left: 4px;\n",
       "    line-height: 19px;\n",
       "  }\n",
       "</style>\n",
       "<div class=\"ansiout\">+-------+--------------------------+\n",
       "summary|abs((rating - prediction))|\n",
       "+-------+--------------------------+\n",
       "  count|                     24104|\n",
       "   mean|        0.8806310943793622|\n",
       " stddev|        0.7821798148167962|\n",
       "    min|      3.385543823242187...|\n",
       "    max|         8.073600769042969|\n",
       "+-------+--------------------------+\n",
       "\n",
       "</div>"
      ]
     },
     "metadata": {
      "application/vnd.databricks.v1+output": {
       "addedWidgets": {},
       "arguments": {},
       "data": "<div class=\"ansiout\">+-------+--------------------------+\n|summary|abs((rating - prediction))|\n+-------+--------------------------+\n|  count|                     24104|\n|   mean|        0.8806310943793622|\n| stddev|        0.7821798148167962|\n|    min|      3.385543823242187...|\n|    max|         8.073600769042969|\n+-------+--------------------------+\n\n</div>",
       "datasetInfos": [],
       "metadata": {
        "isDbfsCommandResult": false
       },
       "removedWidgets": [],
       "type": "html"
      }
     },
     "output_type": "display_data"
    }
   ],
   "source": [
    "%scala\n",
    "errors.na.drop().describe().show()"
   ]
  },
  {
   "cell_type": "code",
   "execution_count": 0,
   "metadata": {
    "application/vnd.databricks.v1+cell": {
     "cellMetadata": {
      "byteLimit": 2048000,
      "rowLimit": 10000
     },
     "inputWidgets": {},
     "nuid": "2468fd34-2de5-47e2-85c8-b90a9376808d",
     "showTitle": false,
     "title": ""
    }
   },
   "outputs": [
    {
     "output_type": "display_data",
     "data": {
      "text/html": [
       "<style scoped>\n",
       "  .ansiout {\n",
       "    display: block;\n",
       "    unicode-bidi: embed;\n",
       "    white-space: pre-wrap;\n",
       "    word-wrap: break-word;\n",
       "    word-break: break-all;\n",
       "    font-family: \"Menlo\", \"Monaco\", \"Consolas\", \"Ubuntu Mono\", \"Source Code Pro\", monospace;\n",
       "    font-size: 13px;\n",
       "    color: #555;\n",
       "    margin-left: 4px;\n",
       "    line-height: 19px;\n",
       "  }\n",
       "</style>\n",
       "<div class=\"ansiout\">paramGrid: Array[org.apache.spark.ml.param.ParamMap] =\n",
       "Array({\n",
       "\tals_8ecae1645810-regParam: 0.01\n",
       "}, {\n",
       "\tals_8ecae1645810-regParam: 0.1\n",
       "}, {\n",
       "\tals_8ecae1645810-regParam: 1.0\n",
       "})\n",
       "evaluator: org.apache.spark.ml.evaluation.RegressionEvaluator = RegressionEvaluator: uid=regEval_a9ea7a1d6d15, metricName=rmse, throughOrigin=false\n",
       "trainValidationSplit: org.apache.spark.ml.tuning.TrainValidationSplit = tvs_23b1746297d3\n",
       "model: org.apache.spark.ml.tuning.TrainValidationSplitModel = TrainValidationSplitModel: uid=tvs_23b1746297d3, bestModel=ALSModel: uid=als_8ecae1645810, rank=10, trainRatio=0.8\n",
       "</div>"
      ]
     },
     "metadata": {
      "application/vnd.databricks.v1+output": {
       "addedWidgets": {},
       "arguments": {},
       "data": "<div class=\"ansiout\">paramGrid: Array[org.apache.spark.ml.param.ParamMap] =\nArray({\n\tals_8ecae1645810-regParam: 0.01\n}, {\n\tals_8ecae1645810-regParam: 0.1\n}, {\n\tals_8ecae1645810-regParam: 1.0\n})\nevaluator: org.apache.spark.ml.evaluation.RegressionEvaluator = RegressionEvaluator: uid=regEval_a9ea7a1d6d15, metricName=rmse, throughOrigin=false\ntrainValidationSplit: org.apache.spark.ml.tuning.TrainValidationSplit = tvs_23b1746297d3\nmodel: org.apache.spark.ml.tuning.TrainValidationSplitModel = TrainValidationSplitModel: uid=tvs_23b1746297d3, bestModel=ALSModel: uid=als_8ecae1645810, rank=10, trainRatio=0.8\n</div>",
       "datasetInfos": [],
       "metadata": {
        "isDbfsCommandResult": false
       },
       "removedWidgets": [],
       "type": "html"
      }
     },
     "output_type": "display_data"
    }
   ],
   "source": [
    "%scala\n",
    "val paramGrid = new ParamGridBuilder().addGrid(als.regParam,Array(0.01,0.1,1.0)).build()\n",
    "\n",
    "val evaluator = new RegressionEvaluator().setMetricName(\"rmse\").setLabelCol(\"rating\").setPredictionCol(\"prediction\")\n",
    "\n",
    "val trainValidationSplit = new TrainValidationSplit().setEstimator(als).setEvaluator(evaluator).setEstimatorParamMaps(paramGrid).setTrainRatio(0.8)\n",
    "\n",
    "val model = trainValidationSplit.fit(train)"
   ]
  },
  {
   "cell_type": "code",
   "execution_count": 0,
   "metadata": {
    "application/vnd.databricks.v1+cell": {
     "cellMetadata": {
      "byteLimit": 2048000,
      "rowLimit": 10000
     },
     "inputWidgets": {},
     "nuid": "f235622d-3031-46a1-acd9-6c8b0dadab41",
     "showTitle": false,
     "title": ""
    }
   },
   "outputs": [
    {
     "output_type": "display_data",
     "data": {
      "text/html": [
       "<style scoped>\n",
       "  .ansiout {\n",
       "    display: block;\n",
       "    unicode-bidi: embed;\n",
       "    white-space: pre-wrap;\n",
       "    word-wrap: break-word;\n",
       "    word-break: break-all;\n",
       "    font-family: \"Menlo\", \"Monaco\", \"Consolas\", \"Ubuntu Mono\", \"Source Code Pro\", monospace;\n",
       "    font-size: 13px;\n",
       "    color: #555;\n",
       "    margin-left: 4px;\n",
       "    line-height: 19px;\n",
       "  }\n",
       "</style>\n",
       "<div class=\"ansiout\">+------+-------+------+----------+\n",
       "userId|movieId|rating|prediction|\n",
       "+------+-------+------+----------+\n",
       "   148|     58|   4.0|  4.162006|\n",
       "   148|    364|   4.0| 4.0146947|\n",
       "   148|    492|   3.5|  4.532341|\n",
       "   148|    904|   5.0| 4.5658894|\n",
       "   148|    913|   4.0|  4.518343|\n",
       "   148|    919|   4.5| 4.4265337|\n",
       "   148|   1097|   5.0| 3.8710222|\n",
       "   148|   1252|   5.0| 4.3655357|\n",
       "   148|   1269|   5.0| 3.9691014|\n",
       "   148|   1304|   4.0|  4.396582|\n",
       "   148|   1610|   5.0| 3.8033426|\n",
       "   148|   1690|   3.0|  2.931346|\n",
       "   148|   1909|   3.5| 3.3113713|\n",
       "   148|   2053|   2.5| 2.4967473|\n",
       "   148|   2080|   4.5| 3.9988854|\n",
       "   148|   2628|   2.5| 3.0480404|\n",
       "   148|   3256|   4.0| 3.9032779|\n",
       "   148|   3386|   3.5| 3.8895802|\n",
       "   148|   3462|   5.0|  4.432053|\n",
       "   148|   3671|   4.0| 4.1945276|\n",
       "+------+-------+------+----------+\n",
       "only showing top 20 rows\n",
       "\n",
       "predictions: org.apache.spark.sql.DataFrame = [userId: int, movieId: int ... 2 more fields]\n",
       "</div>"
      ]
     },
     "metadata": {
      "application/vnd.databricks.v1+output": {
       "addedWidgets": {},
       "arguments": {},
       "data": "<div class=\"ansiout\">+------+-------+------+----------+\n|userId|movieId|rating|prediction|\n+------+-------+------+----------+\n|   148|     58|   4.0|  4.162006|\n|   148|    364|   4.0| 4.0146947|\n|   148|    492|   3.5|  4.532341|\n|   148|    904|   5.0| 4.5658894|\n|   148|    913|   4.0|  4.518343|\n|   148|    919|   4.5| 4.4265337|\n|   148|   1097|   5.0| 3.8710222|\n|   148|   1252|   5.0| 4.3655357|\n|   148|   1269|   5.0| 3.9691014|\n|   148|   1304|   4.0|  4.396582|\n|   148|   1610|   5.0| 3.8033426|\n|   148|   1690|   3.0|  2.931346|\n|   148|   1909|   3.5| 3.3113713|\n|   148|   2053|   2.5| 2.4967473|\n|   148|   2080|   4.5| 3.9988854|\n|   148|   2628|   2.5| 3.0480404|\n|   148|   3256|   4.0| 3.9032779|\n|   148|   3386|   3.5| 3.8895802|\n|   148|   3462|   5.0|  4.432053|\n|   148|   3671|   4.0| 4.1945276|\n+------+-------+------+----------+\nonly showing top 20 rows\n\npredictions: org.apache.spark.sql.DataFrame = [userId: int, movieId: int ... 2 more fields]\n</div>",
       "datasetInfos": [
        {
         "name": "predictions",
         "schema": {
          "fields": [
           {
            "metadata": {},
            "name": "userId",
            "nullable": false,
            "type": "integer"
           },
           {
            "metadata": {},
            "name": "movieId",
            "nullable": false,
            "type": "integer"
           },
           {
            "metadata": {},
            "name": "rating",
            "nullable": true,
            "type": "double"
           },
           {
            "metadata": {},
            "name": "prediction",
            "nullable": false,
            "type": "float"
           }
          ],
          "type": "struct"
         },
         "tableIdentifier": null,
         "typeStr": "org.apache.spark.sql.DataFrame"
        }
       ],
       "metadata": {
        "isDbfsCommandResult": false
       },
       "removedWidgets": [],
       "type": "html"
      }
     },
     "output_type": "display_data"
    }
   ],
   "source": [
    "%scala \n",
    "val predictions = model.transform(test)\n",
    "predictions.show()"
   ]
  },
  {
   "cell_type": "code",
   "execution_count": 0,
   "metadata": {
    "application/vnd.databricks.v1+cell": {
     "cellMetadata": {
      "byteLimit": 2048000,
      "rowLimit": 10000
     },
     "inputWidgets": {},
     "nuid": "fb3557e4-342d-40f2-8de7-b1d36527bd78",
     "showTitle": false,
     "title": ""
    }
   },
   "outputs": [
    {
     "output_type": "display_data",
     "data": {
      "text/html": [
       "<style scoped>\n",
       "  .ansiout {\n",
       "    display: block;\n",
       "    unicode-bidi: embed;\n",
       "    white-space: pre-wrap;\n",
       "    word-wrap: break-word;\n",
       "    word-break: break-all;\n",
       "    font-family: \"Menlo\", \"Monaco\", \"Consolas\", \"Ubuntu Mono\", \"Source Code Pro\", monospace;\n",
       "    font-size: 13px;\n",
       "    color: #555;\n",
       "    margin-left: 4px;\n",
       "    line-height: 19px;\n",
       "  }\n",
       "</style>\n",
       "<div class=\"ansiout\">(RMSE:,0.9189594041956963)\n",
       "rmse: Double = 0.9189594041956963\n",
       "</div>"
      ]
     },
     "metadata": {
      "application/vnd.databricks.v1+output": {
       "addedWidgets": {},
       "arguments": {},
       "data": "<div class=\"ansiout\">(RMSE:,0.9189594041956963)\nrmse: Double = 0.9189594041956963\n</div>",
       "datasetInfos": [],
       "metadata": {
        "isDbfsCommandResult": false
       },
       "removedWidgets": [],
       "type": "html"
      }
     },
     "output_type": "display_data"
    }
   ],
   "source": [
    "%scala\n",
    "val rmse = evaluator.evaluate(predictions)\n",
    "println(\"RMSE:\",rmse)"
   ]
  },
  {
   "cell_type": "code",
   "execution_count": 0,
   "metadata": {
    "application/vnd.databricks.v1+cell": {
     "cellMetadata": {
      "byteLimit": 2048000,
      "rowLimit": 10000
     },
     "inputWidgets": {},
     "nuid": "781bdf15-ff09-42b2-aa9f-e9ade706b06d",
     "showTitle": false,
     "title": ""
    }
   },
   "outputs": [
    {
     "output_type": "display_data",
     "data": {
      "text/html": [
       "<style scoped>\n",
       "  .ansiout {\n",
       "    display: block;\n",
       "    unicode-bidi: embed;\n",
       "    white-space: pre-wrap;\n",
       "    word-wrap: break-word;\n",
       "    word-break: break-all;\n",
       "    font-family: \"Menlo\", \"Monaco\", \"Consolas\", \"Ubuntu Mono\", \"Source Code Pro\", monospace;\n",
       "    font-size: 13px;\n",
       "    color: #555;\n",
       "    margin-left: 4px;\n",
       "    line-height: 19px;\n",
       "  }\n",
       "</style>\n",
       "<div class=\"ansiout\">(R2 Score:,0.2346683710922698)\n",
       "r2_eval: org.apache.spark.ml.evaluation.RegressionEvaluator = RegressionEvaluator: uid=regEval_4bc6d59232ca, metricName=r2, throughOrigin=false\n",
       "</div>"
      ]
     },
     "metadata": {
      "application/vnd.databricks.v1+output": {
       "addedWidgets": {},
       "arguments": {},
       "data": "<div class=\"ansiout\">(R2 Score:,0.2346683710922698)\nr2_eval: org.apache.spark.ml.evaluation.RegressionEvaluator = RegressionEvaluator: uid=regEval_4bc6d59232ca, metricName=r2, throughOrigin=false\n</div>",
       "datasetInfos": [],
       "metadata": {
        "isDbfsCommandResult": false
       },
       "removedWidgets": [],
       "type": "html"
      }
     },
     "output_type": "display_data"
    }
   ],
   "source": [
    "%scala\n",
    "val r2_eval = new RegressionEvaluator().setLabelCol(\"rating\").setMetricName(\"r2\")\n",
    "println(\"R2 Score:\",r2_eval.evaluate(predictions))"
   ]
  }
 ],
 "metadata": {
  "application/vnd.databricks.v1+notebook": {
   "dashboards": [],
   "environmentMetadata": null,
   "language": "python",
   "notebookMetadata": {
    "pythonIndentUnit": 4
   },
   "notebookName": "Implementing Recommender Systems using Spark",
   "widgets": {}
  }
 },
 "nbformat": 4,
 "nbformat_minor": 0
}
